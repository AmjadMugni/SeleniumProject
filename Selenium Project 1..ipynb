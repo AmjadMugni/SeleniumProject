{
 "cells": [
  {
   "cell_type": "code",
   "execution_count": null,
   "id": "imported-strike",
   "metadata": {},
   "outputs": [],
   "source": [
    "import selenium\n",
    "import pandas as pd\n",
    "from selenium import webdriver"
   ]
  },
  {
   "cell_type": "code",
   "execution_count": null,
   "id": "satisfactory-doctrine",
   "metadata": {},
   "outputs": [],
   "source": [
    "driver = webdriver.Chrome(r\"C:\\Users\\Sumain\\Downloads\\New folder (2)/chromedriver.exe\")"
   ]
  },
  {
   "cell_type": "code",
   "execution_count": null,
   "id": "competent-moore",
   "metadata": {},
   "outputs": [],
   "source": [
    "driver = webdriver.Chrome(\"chromedriver.exe\")"
   ]
  },
  {
   "cell_type": "code",
   "execution_count": null,
   "id": "different-duration",
   "metadata": {},
   "outputs": [],
   "source": [
    "url = 'https://www.naukri.com/'\n",
    "driver.get(url)"
   ]
  },
  {
   "cell_type": "code",
   "execution_count": null,
   "id": "thousand-national",
   "metadata": {},
   "outputs": [],
   "source": [
    "search_job = driver.find_element_by_id('qsb-keyword-sugg')\n",
    "search_job.send_keys(\"Data Analyst\")"
   ]
  },
  {
   "cell_type": "code",
   "execution_count": null,
   "id": "secondary-audio",
   "metadata": {},
   "outputs": [],
   "source": [
    "search_loc = driver.find_element_by_id(\"qsb-location-sugg\")\n",
    "search_loc.send_keys(\"bengalore\")"
   ]
  },
  {
   "cell_type": "code",
   "execution_count": null,
   "id": "sticky-presence",
   "metadata": {},
   "outputs": [],
   "source": [
    "search_btn = driver.find_element_by_xpath(\"//button[@class='btn']\")\n",
    "search_btn"
   ]
  },
  {
   "cell_type": "code",
   "execution_count": null,
   "id": "continuous-chassis",
   "metadata": {},
   "outputs": [],
   "source": [
    "search_btn.click()"
   ]
  },
  {
   "cell_type": "code",
   "execution_count": null,
   "id": "documentary-topic",
   "metadata": {},
   "outputs": [],
   "source": [
    "titles_tags = driver.find_elements_by_xpath(\"//a[@class='title fw500 ellipsis']\")\n",
    "titles_tags"
   ]
  },
  {
   "cell_type": "code",
   "execution_count": null,
   "id": "cathedral-decrease",
   "metadata": {},
   "outputs": [],
   "source": [
    "job_titles=[]\n",
    "for i in titles_tags:\n",
    "    job_titles.append(i.text)\n",
    "job_titles "
   ]
  },
  {
   "cell_type": "code",
   "execution_count": null,
   "id": "adverse-lighter",
   "metadata": {},
   "outputs": [],
   "source": [
    "companies_tags = driver.find_elements_by_xpath(\"//a[@class='subTitle ellipsis fleft']\")\n",
    "companies_tags"
   ]
  },
  {
   "cell_type": "code",
   "execution_count": null,
   "id": "incorporate-actress",
   "metadata": {},
   "outputs": [],
   "source": [
    "companies_name=[]\n",
    "for i in companies_tags:\n",
    "    companies_name.append(i.text)\n",
    "companies_name"
   ]
  },
  {
   "cell_type": "code",
   "execution_count": null,
   "id": "second-feeling",
   "metadata": {},
   "outputs": [],
   "source": [
    "Locattion_tags = driver.find_elements_by_xpath(\"//li[@class='fleft grey-text br2 placeHolderLi location']\")\n",
    "Locattion_tags"
   ]
  },
  {
   "cell_type": "code",
   "execution_count": null,
   "id": "dried-boating",
   "metadata": {},
   "outputs": [],
   "source": [
    "Locattion_nm=[]\n",
    "for i in Locattion_tags:\n",
    "    Locattion_nm.append(i.text)\n",
    "Locattion_nm"
   ]
  },
  {
   "cell_type": "code",
   "execution_count": null,
   "id": "compound-cassette",
   "metadata": {},
   "outputs": [],
   "source": [
    "print(len(titles_tags),len(companies_name),len(Locattion_nm))"
   ]
  },
  {
   "cell_type": "code",
   "execution_count": null,
   "id": "religious-sullivan",
   "metadata": {},
   "outputs": [],
   "source": [
    "jobs=pd.DataFrame({})\n",
    "jobs['Title']=titles_tags\n",
    "jobs['company']=companies_name\n",
    "jobs['location']=Locattion_nm"
   ]
  },
  {
   "cell_type": "code",
   "execution_count": null,
   "id": "defined-transformation",
   "metadata": {},
   "outputs": [],
   "source": []
  },
  {
   "cell_type": "markdown",
   "id": "responsible-flavor",
   "metadata": {},
   "source": [
    "Above code is for scaping data from naukri.com of Data Scientist ,Location and company and the Data Frame for the Same."
   ]
  },
  {
   "cell_type": "code",
   "execution_count": null,
   "id": "impressive-murder",
   "metadata": {},
   "outputs": [],
   "source": []
  },
  {
   "cell_type": "code",
   "execution_count": null,
   "id": "qualified-crown",
   "metadata": {},
   "outputs": [],
   "source": [
    "\n",
    "\n",
    "driver = webdriver.Chrome(\"chromedriver.exe\")"
   ]
  },
  {
   "cell_type": "code",
   "execution_count": null,
   "id": "minute-peeing",
   "metadata": {},
   "outputs": [],
   "source": [
    "url = 'https://www.naukri.com/'\n",
    "driver.get(url)"
   ]
  },
  {
   "cell_type": "code",
   "execution_count": null,
   "id": "antique-stick",
   "metadata": {},
   "outputs": [],
   "source": [
    "search_job = driver.find_element_by_id('qsb-keyword-sugg')\n",
    "search_job.send_keys(\"Data Scientist\")"
   ]
  },
  {
   "cell_type": "code",
   "execution_count": null,
   "id": "senior-marsh",
   "metadata": {},
   "outputs": [],
   "source": [
    "search_loc = driver.find_element_by_id(\"qsb-location-sugg\")\n",
    "search_loc.send_keys(\"bengalore\")"
   ]
  },
  {
   "cell_type": "code",
   "execution_count": null,
   "id": "sacred-female",
   "metadata": {},
   "outputs": [],
   "source": [
    "search_btn = driver.find_element_by_xpath(\"//button[@class='btn']\")\n",
    "search_btn"
   ]
  },
  {
   "cell_type": "code",
   "execution_count": null,
   "id": "advised-seventh",
   "metadata": {},
   "outputs": [],
   "source": [
    "search_btn.click()"
   ]
  },
  {
   "cell_type": "code",
   "execution_count": null,
   "id": "joint-floating",
   "metadata": {},
   "outputs": [],
   "source": [
    "titles_tags = driver.find_elements_by_xpath(\"//a[@class='title fw500 ellipsis']\")\n",
    "titles_tags"
   ]
  },
  {
   "cell_type": "code",
   "execution_count": null,
   "id": "southwest-lewis",
   "metadata": {},
   "outputs": [],
   "source": [
    "job_titles=[]\n",
    "for i in titles_tags:\n",
    "    job_titles.append(i.text)\n",
    "job_titles    "
   ]
  },
  {
   "cell_type": "code",
   "execution_count": null,
   "id": "processed-polymer",
   "metadata": {},
   "outputs": [],
   "source": [
    "companies_tags = driver.find_elements_by_xpath(\"//a[@class='subTitle ellipsis fleft']\")\n",
    "companies_tags"
   ]
  },
  {
   "cell_type": "code",
   "execution_count": null,
   "id": "forbidden-beach",
   "metadata": {},
   "outputs": [],
   "source": [
    "companies_name=[]\n",
    "for i in companies_tags:\n",
    "    companies_name.append(i.text)\n",
    "companies_name    "
   ]
  },
  {
   "cell_type": "code",
   "execution_count": null,
   "id": "accredited-guarantee",
   "metadata": {},
   "outputs": [],
   "source": [
    "Locattion_tags = driver.find_elements_by_xpath(\"//li[@class='fleft grey-text br2 placeHolderLi location']\")\n",
    "Locattion_tags"
   ]
  },
  {
   "cell_type": "code",
   "execution_count": null,
   "id": "preceding-angel",
   "metadata": {},
   "outputs": [],
   "source": [
    "Locattion_nm=[]\n",
    "for i in Locattion_tags:\n",
    "    Locattion_nm.append(i.text)\n",
    "Locattion_nm"
   ]
  },
  {
   "cell_type": "code",
   "execution_count": null,
   "id": "technical-identifier",
   "metadata": {},
   "outputs": [],
   "source": [
    "print(len(titles_tags),len(companies_name),len(Locattion_nm))"
   ]
  },
  {
   "cell_type": "code",
   "execution_count": null,
   "id": "perceived-inside",
   "metadata": {},
   "outputs": [],
   "source": [
    "jobs=pd.DataFrame({})\n",
    "jobs['Title']=titles_tags\n",
    "jobs['company']=companies_name\n",
    "jobs['location']=Locattion_nm"
   ]
  },
  {
   "cell_type": "code",
   "execution_count": null,
   "id": "listed-packet",
   "metadata": {},
   "outputs": [],
   "source": []
  },
  {
   "cell_type": "markdown",
   "id": "communist-branch",
   "metadata": {},
   "source": [
    "Above code is for scaping data from naukri.com of Data Scientist ,Location and company and the Data Frame for the Same."
   ]
  },
  {
   "cell_type": "code",
   "execution_count": null,
   "id": "worldwide-appliance",
   "metadata": {},
   "outputs": [],
   "source": [
    "from selenium.webdriver.common.by import By"
   ]
  },
  {
   "cell_type": "code",
   "execution_count": null,
   "id": "excess-socket",
   "metadata": {},
   "outputs": [],
   "source": [
    "driver = webdriver.Chrome(\"chromedriver.exe\")"
   ]
  },
  {
   "cell_type": "code",
   "execution_count": null,
   "id": "sized-grammar",
   "metadata": {},
   "outputs": [],
   "source": [
    "url = 'https://www.naukri.com/'\n",
    "driver.get(url)\n"
   ]
  },
  {
   "cell_type": "code",
   "execution_count": null,
   "id": "deluxe-happening",
   "metadata": {},
   "outputs": [],
   "source": [
    "#driver.maximise_window()\n",
    "#driver.implicity_wait(10)\n",
    "driver.find_elements(By.XPATH,\"//input[contains(@id,'search')]\").send_keys(\"Data Scientist\")"
   ]
  },
  {
   "cell_type": "code",
   "execution_count": null,
   "id": "stunning-positive",
   "metadata": {},
   "outputs": [],
   "source": [
    "search_job = driver.find_element_by_id('qsb-keyword-sugg')\n",
    "search_job.send_keys(\"Data Scientist\")"
   ]
  },
  {
   "cell_type": "code",
   "execution_count": null,
   "id": "american-bradford",
   "metadata": {},
   "outputs": [],
   "source": [
    "Locattion_tags = driver.find_elements_by_xpath(\"//span[@class='Bangalore/Bengaluru']\").click()\n",
    "Locattion_tags"
   ]
  },
  {
   "cell_type": "code",
   "execution_count": null,
   "id": "apart-darwin",
   "metadata": {},
   "outputs": [],
   "source": [
    "location = driver.find_elements_by_xpath(\"//span[@class='Bangalore/Bengaluru']\").click()\n"
   ]
  },
  {
   "cell_type": "code",
   "execution_count": null,
   "id": "verbal-insulation",
   "metadata": {},
   "outputs": [],
   "source": [
    "\n",
    "search_btn.click()"
   ]
  },
  {
   "cell_type": "code",
   "execution_count": null,
   "id": "informative-wholesale",
   "metadata": {},
   "outputs": [],
   "source": [
    "Locattion_tags = driver.find_elements_by_xpath(\"//class[@for='chk-Bangalore/Bengaluru-cityTypeGid-']\")\n",
    "Locattion_tags"
   ]
  },
  {
   "cell_type": "code",
   "execution_count": null,
   "id": "legislative-ethnic",
   "metadata": {},
   "outputs": [],
   "source": [
    "Locattion_nm=[]\n",
    "for i in Locattion_tags:\n",
    "    Locattion_nm.append(i.text)\n",
    "Locattion_nm"
   ]
  },
  {
   "cell_type": "code",
   "execution_count": null,
   "id": "certain-selling",
   "metadata": {},
   "outputs": [],
   "source": [
    "search_job = driver.find_element_by_id('chk-Bangalore/Bengaluru-cityTypeGid-')\n",
    "search_job.send_keys(\"Banglore/Bangaluru\")"
   ]
  },
  {
   "cell_type": "code",
   "execution_count": null,
   "id": "stretch-marriage",
   "metadata": {},
   "outputs": [],
   "source": []
  },
  {
   "cell_type": "code",
   "execution_count": null,
   "id": "clean-touch",
   "metadata": {},
   "outputs": [],
   "source": []
  },
  {
   "cell_type": "code",
   "execution_count": null,
   "id": "offshore-simulation",
   "metadata": {},
   "outputs": [],
   "source": [
    "driver = webdriver.Chrome(\"chromedriver.exe\")"
   ]
  },
  {
   "cell_type": "code",
   "execution_count": null,
   "id": "parental-jimmy",
   "metadata": {},
   "outputs": [],
   "source": [
    "url = 'https://www.glassdoor.co.in/Salaries/index.htm'\n",
    "driver.get(url)"
   ]
  },
  {
   "cell_type": "code",
   "execution_count": null,
   "id": "australian-happening",
   "metadata": {},
   "outputs": [],
   "source": [
    "search_job = driver.find_element_by_id('KeywordSearch')\n",
    "search_job.send_keys(\"Data Scientist\")"
   ]
  },
  {
   "cell_type": "code",
   "execution_count": null,
   "id": "exact-chambers",
   "metadata": {},
   "outputs": [],
   "source": [
    "search_loc = driver.find_element_by_id(\"LocationSearch\")\n",
    "search_loc.send_keys(\"Noida\")"
   ]
  },
  {
   "cell_type": "code",
   "execution_count": null,
   "id": "hollywood-rebound",
   "metadata": {},
   "outputs": [],
   "source": [
    "Company = driver.find_element(\"//li[@class='Company Name']\")\n",
    "Company"
   ]
  },
  {
   "cell_type": "code",
   "execution_count": null,
   "id": "respective-graphic",
   "metadata": {},
   "outputs": [],
   "source": [
    "search_btn = driver.find_element_by_xpath(\"//button[@class='gd-btn-mkt']\")\n",
    "search_btn"
   ]
  },
  {
   "cell_type": "code",
   "execution_count": null,
   "id": "functioning-speaker",
   "metadata": {},
   "outputs": [],
   "source": [
    "search_btn.click()"
   ]
  },
  {
   "cell_type": "code",
   "execution_count": null,
   "id": "unknown-seafood",
   "metadata": {},
   "outputs": [],
   "source": [
    "Comp_tags = driver.find_elements_by_xpath(\"//div[@class='col-9 pr-0']\")\n",
    "Comp_tags"
   ]
  },
  {
   "cell_type": "code",
   "execution_count": null,
   "id": "maritime-terminal",
   "metadata": {},
   "outputs": [],
   "source": [
    "Com_titles=[]\n",
    "for i in Comp_tags:\n",
    "    Com_titles.append(i.text)\n",
    "Com_titles "
   ]
  },
  {
   "cell_type": "markdown",
   "id": "directed-grain",
   "metadata": {},
   "source": [
    "When i run the above code i was not able to get job title so i am not able to prepare a Data Frame."
   ]
  },
  {
   "cell_type": "code",
   "execution_count": null,
   "id": "optional-garbage",
   "metadata": {},
   "outputs": [],
   "source": []
  },
  {
   "cell_type": "code",
   "execution_count": null,
   "id": "sophisticated-quilt",
   "metadata": {},
   "outputs": [],
   "source": []
  },
  {
   "cell_type": "markdown",
   "id": "ideal-initial",
   "metadata": {},
   "source": [
    "# Q5"
   ]
  },
  {
   "cell_type": "code",
   "execution_count": null,
   "id": "forbidden-pharmacy",
   "metadata": {},
   "outputs": [],
   "source": []
  },
  {
   "cell_type": "code",
   "execution_count": null,
   "id": "rising-martin",
   "metadata": {},
   "outputs": [],
   "source": [
    "url = 'https://www.glassdoor.co.in/Salaries/index.htm'\n",
    "driver.get(url)\n",
    "\n",
    "search_job = driver.find_element_by_id('KeywordSearch')\n",
    "search_job.send_keys(\"Data Scientist\")\n",
    "\n",
    "search_loc = driver.find_element_by_id(\"LocationSearch\")\n",
    "search_loc.send_keys(\"Noida\")"
   ]
  },
  {
   "cell_type": "code",
   "execution_count": null,
   "id": "insured-ranking",
   "metadata": {},
   "outputs": [],
   "source": [
    "search_btn = driver.find_element_by_xpath(\"//button[@class='gd-btn-mkt']\")\n",
    "search_btn\n",
    "\n"
   ]
  },
  {
   "cell_type": "code",
   "execution_count": null,
   "id": "younger-transfer",
   "metadata": {},
   "outputs": [],
   "source": [
    "search_btn.click()"
   ]
  },
  {
   "cell_type": "code",
   "execution_count": null,
   "id": "homeless-thinking",
   "metadata": {},
   "outputs": [],
   "source": [
    "job_tags = driver.find_elements_by_xpath(\"//a[@class='css-f3vw95 e1aj7ssy3']\")\n",
    "job_tags"
   ]
  },
  {
   "cell_type": "code",
   "execution_count": null,
   "id": "settled-image",
   "metadata": {},
   "outputs": [],
   "source": [
    "job_tit=[]\n",
    "for i in job_tags:\n",
    "    job_tit.append(i.text)\n",
    "job_tit "
   ]
  },
  {
   "cell_type": "code",
   "execution_count": null,
   "id": "proprietary-poverty",
   "metadata": {},
   "outputs": [],
   "source": [
    "salary_tags = driver.find_elements_by_xpath(\"//div[@class='col-12 col-lg-4 px-lg-0 d-flex align-items-baseline']\")\n",
    "salary_tags"
   ]
  },
  {
   "cell_type": "code",
   "execution_count": null,
   "id": "confident-diesel",
   "metadata": {},
   "outputs": [],
   "source": [
    "salary=[]\n",
    "for i in salary_tags:\n",
    "    salary.append(i.text)\n",
    "salary "
   ]
  },
  {
   "cell_type": "code",
   "execution_count": null,
   "id": "demanding-explanation",
   "metadata": {},
   "outputs": [],
   "source": [
    "rang_tag = driver.find_elements_by_xpath(\"//span[@class='d-block d-lg-none m-0 css-1b6bxoo']\")\n",
    "rang_tag\n",
    "\n"
   ]
  },
  {
   "cell_type": "code",
   "execution_count": null,
   "id": "norwegian-paraguay",
   "metadata": {
    "scrolled": true
   },
   "outputs": [],
   "source": [
    "Rang=[]\n",
    "for i in rang_tag:\n",
    "    Rang.append(i.text)\n",
    "Rang "
   ]
  },
  {
   "cell_type": "code",
   "execution_count": null,
   "id": "accepting-symphony",
   "metadata": {},
   "outputs": [],
   "source": [
    "print(len(job_tit),len(salary),len(Rang))"
   ]
  },
  {
   "cell_type": "code",
   "execution_count": null,
   "id": "prerequisite-tower",
   "metadata": {},
   "outputs": [],
   "source": [
    "GS=pd.DataFrame({})\n",
    "GS['Company']=job_tit\n",
    "GS['Salary']=salary\n",
    "GS['Range min to max']=Rang"
   ]
  },
  {
   "cell_type": "code",
   "execution_count": null,
   "id": "suspected-grenada",
   "metadata": {},
   "outputs": [],
   "source": [
    "GS"
   ]
  },
  {
   "cell_type": "code",
   "execution_count": null,
   "id": "essential-light",
   "metadata": {},
   "outputs": [],
   "source": []
  },
  {
   "cell_type": "markdown",
   "id": "convinced-protest",
   "metadata": {},
   "source": [
    "# Q6"
   ]
  },
  {
   "cell_type": "code",
   "execution_count": null,
   "id": "distinct-arbitration",
   "metadata": {},
   "outputs": [],
   "source": [
    "url = 'https://www.flipkart.com/search?q=sunglasses&sid=26x&as=on&as-show=on&otracker=AS_QueryStore_OrganicAutoSuggest_1_3_na_na_na&otracker1=AS_QueryStore_OrganicAutoSuggest_1_3_na_na_na&as-pos=1&as-type=RECENT&suggestionId=sunglasses%7CSunglasses&requestId=54320a68-813f-4e79-a77d-4bf57283b40f&as-searchtext=sun'\n",
    "driver.get(url)"
   ]
  },
  {
   "cell_type": "code",
   "execution_count": null,
   "id": "sharp-beaver",
   "metadata": {},
   "outputs": [],
   "source": [
    "Brand_tags = driver.find_elements_by_xpath(\"//div[@class='_2WkVRV']\")\n",
    "Brand_tags"
   ]
  },
  {
   "cell_type": "code",
   "execution_count": null,
   "id": "limited-civilization",
   "metadata": {},
   "outputs": [],
   "source": [
    "Brand=[]\n",
    "for i in Brand_tags:\n",
    "    Brand.append(i.text)\n",
    "Brand "
   ]
  },
  {
   "cell_type": "code",
   "execution_count": null,
   "id": "structural-accident",
   "metadata": {},
   "outputs": [],
   "source": [
    "print(len(Brand))"
   ]
  },
  {
   "cell_type": "code",
   "execution_count": null,
   "id": "center-channel",
   "metadata": {},
   "outputs": [],
   "source": [
    "off_tags = driver.find_elements_by_xpath(\"//div[@class='_3Ay6Sb']\")\n",
    "off_tags"
   ]
  },
  {
   "cell_type": "code",
   "execution_count": null,
   "id": "internal-teaching",
   "metadata": {},
   "outputs": [],
   "source": [
    "Offer=[]\n",
    "for i in off_tags:\n",
    "    Offer.append(i.text)\n",
    "Offer "
   ]
  },
  {
   "cell_type": "code",
   "execution_count": null,
   "id": "nonprofit-appreciation",
   "metadata": {},
   "outputs": [],
   "source": [
    "price_tags = driver.find_elements_by_xpath(\"//div[@class='_30jeq3']\")\n",
    "price_tags"
   ]
  },
  {
   "cell_type": "code",
   "execution_count": null,
   "id": "established-luxembourg",
   "metadata": {},
   "outputs": [],
   "source": [
    "Price=[]\n",
    "for i in price_tags:\n",
    "    Price.append(i.text)\n",
    "Price "
   ]
  },
  {
   "cell_type": "code",
   "execution_count": null,
   "id": "marine-offense",
   "metadata": {},
   "outputs": [],
   "source": [
    "description_tags = driver.find_elements_by_xpath(\"//a[@class='IRpwTa']\")\n",
    "description_tags"
   ]
  },
  {
   "cell_type": "code",
   "execution_count": null,
   "id": "adult-bridal",
   "metadata": {},
   "outputs": [],
   "source": [
    "P_description=[]\n",
    "for i in description_tags:\n",
    "    P_description.append(i.text)\n",
    "P_description"
   ]
  },
  {
   "cell_type": "code",
   "execution_count": null,
   "id": "effective-study",
   "metadata": {},
   "outputs": [],
   "source": [
    "print(len(Brand),len(Offer),len(Price),len(P_description))"
   ]
  },
  {
   "cell_type": "code",
   "execution_count": null,
   "id": "institutional-publication",
   "metadata": {},
   "outputs": [],
   "source": [
    "F_Sunglasses=pd.DataFrame({})\n",
    "F_Sunglasses['Brand']=Brand\n",
    "F_Sunglasses['Offer']=Offer\n",
    "F_Sunglasses['Price']=Price\n",
    "F_Sunglasses['Description']=P_description"
   ]
  },
  {
   "cell_type": "markdown",
   "id": "supposed-person",
   "metadata": {},
   "source": [
    "Above code is for scraping data from flipkart of sunglasses . my product description code give me less data than other , please look into my code and reply me why this is happening."
   ]
  },
  {
   "cell_type": "code",
   "execution_count": null,
   "id": "consolidated-helicopter",
   "metadata": {},
   "outputs": [],
   "source": []
  },
  {
   "cell_type": "markdown",
   "id": "demonstrated-hacker",
   "metadata": {},
   "source": [
    "# Q7"
   ]
  },
  {
   "cell_type": "code",
   "execution_count": null,
   "id": "developed-trick",
   "metadata": {},
   "outputs": [],
   "source": []
  },
  {
   "cell_type": "code",
   "execution_count": null,
   "id": "fossil-frank",
   "metadata": {},
   "outputs": [],
   "source": []
  },
  {
   "cell_type": "code",
   "execution_count": null,
   "id": "municipal-content",
   "metadata": {},
   "outputs": [],
   "source": [
    "url='https://www.flipkart.com/apple-iphone-11-black-64-gb-includes-earpods-power-adapter/p/itm0f37c2240b217?pid=MOBFKCTSVZAXUHGR&lid=LSTMOBFKCTSVZAXUHGREPBFGI&marketplace'\n",
    "driver.get(url)"
   ]
  },
  {
   "cell_type": "code",
   "execution_count": null,
   "id": "located-error",
   "metadata": {},
   "outputs": [],
   "source": [
    "rev_tags = driver.find_elements_by_xpath(\"//div[@class='_3LWZlK _1BLPMq']\")\n",
    "rev_tags"
   ]
  },
  {
   "cell_type": "code",
   "execution_count": null,
   "id": "affected-western",
   "metadata": {},
   "outputs": [],
   "source": [
    "review_titles=[]\n",
    "for i in rev_tags:\n",
    "    review_titles.append(i.text)\n",
    "review_titles "
   ]
  },
  {
   "cell_type": "code",
   "execution_count": null,
   "id": "victorian-theta",
   "metadata": {},
   "outputs": [],
   "source": [
    "rev_sum = driver.find_elements_by_xpath(\"//p[@class='_2-N8zT']\")\n",
    "rev_sum"
   ]
  },
  {
   "cell_type": "code",
   "execution_count": null,
   "id": "statutory-cycling",
   "metadata": {},
   "outputs": [],
   "source": [
    "review_sumary=[]\n",
    "for i in rev_sum:\n",
    "    review_sumary.append(i.text)\n",
    "review_sumary "
   ]
  },
  {
   "cell_type": "code",
   "execution_count": null,
   "id": "handled-eugene",
   "metadata": {},
   "outputs": [],
   "source": [
    "rev_des = driver.find_elements_by_xpath(\"//div[@class='t-ZTKy']\")\n",
    "rev_des"
   ]
  },
  {
   "cell_type": "code",
   "execution_count": null,
   "id": "entitled-binary",
   "metadata": {},
   "outputs": [],
   "source": [
    "review_des=[]\n",
    "for i in rev_des:\n",
    "    review_des.append(i.text)\n",
    "review_des "
   ]
  },
  {
   "cell_type": "code",
   "execution_count": null,
   "id": "individual-albuquerque",
   "metadata": {},
   "outputs": [],
   "source": [
    "print(len(review_des),len(rev_sum),len(review_titles))"
   ]
  },
  {
   "cell_type": "code",
   "execution_count": null,
   "id": "lonely-shell",
   "metadata": {},
   "outputs": [],
   "source": [
    "iphoneReview=pd.DataFrame({})\n",
    "iphoneReview['rating']=review_titles\n",
    "iphoneReview['review summury']=rev_sum\n",
    "iphoneReview['review description']=review_des\n"
   ]
  },
  {
   "cell_type": "code",
   "execution_count": null,
   "id": "downtown-engine",
   "metadata": {},
   "outputs": [],
   "source": [
    "iphoneReview"
   ]
  },
  {
   "cell_type": "markdown",
   "id": "extra-regression",
   "metadata": {},
   "source": [
    "Above is the code for the review of i phone11 from flipkart.there is only 10 data coz i was not able to write code for multiple page in selenium, although i am able to write code for multiple page in BeautifulSoup"
   ]
  },
  {
   "cell_type": "code",
   "execution_count": null,
   "id": "collected-satin",
   "metadata": {},
   "outputs": [],
   "source": []
  },
  {
   "cell_type": "markdown",
   "id": "certified-suspect",
   "metadata": {},
   "source": [
    "# Q8"
   ]
  },
  {
   "cell_type": "code",
   "execution_count": null,
   "id": "worthy-finance",
   "metadata": {},
   "outputs": [],
   "source": [
    "url='https://www.flipkart.com/search?q=sneakers&otracker=search&otracker1=search&marketplace=FLIPKART&as-show=on&as=off'\n",
    "driver.get(url)"
   ]
  },
  {
   "cell_type": "code",
   "execution_count": null,
   "id": "quiet-sandwich",
   "metadata": {},
   "outputs": [],
   "source": [
    "Brand_sneaker = driver.find_elements_by_xpath(\"//div[@class='_2WkVRV']\")\n",
    "Brand_sneaker"
   ]
  },
  {
   "cell_type": "code",
   "execution_count": null,
   "id": "understood-permit",
   "metadata": {},
   "outputs": [],
   "source": [
    "SBrand=[]\n",
    "for i in Brand_sneaker:\n",
    "    SBrand.append(i.text)\n",
    "SBrand "
   ]
  },
  {
   "cell_type": "code",
   "execution_count": null,
   "id": "cooperative-heart",
   "metadata": {},
   "outputs": [],
   "source": [
    "print(len(SBrand))"
   ]
  },
  {
   "cell_type": "code",
   "execution_count": null,
   "id": "excessive-encounter",
   "metadata": {},
   "outputs": [],
   "source": [
    "offer_snkr = driver.find_elements_by_xpath(\"//div[@class='_3Ay6Sb']\")\n",
    "offer_snkr"
   ]
  },
  {
   "cell_type": "code",
   "execution_count": null,
   "id": "common-cream",
   "metadata": {},
   "outputs": [],
   "source": [
    "SOffer=[]\n",
    "for i in offer_snkr:\n",
    "    SOffer.append(i.text)\n",
    "SOffer "
   ]
  },
  {
   "cell_type": "code",
   "execution_count": null,
   "id": "nervous-enlargement",
   "metadata": {},
   "outputs": [],
   "source": [
    "Sprice_tags = driver.find_elements_by_xpath(\"//div[@class='_30jeq3']\")\n",
    "Sprice_tags"
   ]
  },
  {
   "cell_type": "code",
   "execution_count": null,
   "id": "ordinary-replication",
   "metadata": {},
   "outputs": [],
   "source": [
    "SPrice=[]\n",
    "for i in Sprice_tags:\n",
    "    SPrice.append(i.text)\n",
    "SPrice "
   ]
  },
  {
   "cell_type": "code",
   "execution_count": null,
   "id": "secure-floating",
   "metadata": {},
   "outputs": [],
   "source": [
    "Sdescription_tags = driver.find_elements_by_xpath(\"//a[@class='IRpwTa']\")\n",
    "Sdescription_tags"
   ]
  },
  {
   "cell_type": "code",
   "execution_count": null,
   "id": "seasonal-eating",
   "metadata": {},
   "outputs": [],
   "source": [
    "S_description=[]\n",
    "for i in Sdescription_tags:\n",
    "    S_description.append(i.text)\n",
    "S_description"
   ]
  },
  {
   "cell_type": "code",
   "execution_count": null,
   "id": "short-electronics",
   "metadata": {},
   "outputs": [],
   "source": []
  },
  {
   "cell_type": "code",
   "execution_count": null,
   "id": "driving-association",
   "metadata": {},
   "outputs": [],
   "source": [
    "F_Sneaker=pd.DataFrame({})\n",
    "F_Sneaker['Brand']=SBrand\n",
    "F_Sneaker['Offer']=SOffer\n",
    "F_Sneaker['Price']=SPrice\n",
    "F_Sneaker['Description']=S_description"
   ]
  },
  {
   "cell_type": "code",
   "execution_count": null,
   "id": "entertaining-spanish",
   "metadata": {},
   "outputs": [],
   "source": []
  },
  {
   "cell_type": "markdown",
   "id": "unique-advancement",
   "metadata": {},
   "source": [
    "Above is the code for sneaker from flipkart again i am phasing an issue with the less data in one attribute.Please send me the solution and describtion."
   ]
  },
  {
   "cell_type": "code",
   "execution_count": null,
   "id": "controlling-florist",
   "metadata": {},
   "outputs": [],
   "source": []
  },
  {
   "cell_type": "markdown",
   "id": "chemical-morgan",
   "metadata": {},
   "source": [
    "# Q9"
   ]
  },
  {
   "cell_type": "code",
   "execution_count": null,
   "id": "complimentary-immunology",
   "metadata": {},
   "outputs": [],
   "source": []
  },
  {
   "cell_type": "code",
   "execution_count": null,
   "id": "mineral-defendant",
   "metadata": {},
   "outputs": [],
   "source": [
    "url='https://www.myntra.com/shoes'\n",
    "driver.get(url)"
   ]
  },
  {
   "cell_type": "code",
   "execution_count": null,
   "id": "crude-spectacular",
   "metadata": {},
   "outputs": [],
   "source": [
    "price=driver.find_elements_by_xpath(\"//label[@class='common-checkboxIndicator']\")\n",
    "price.click()\n"
   ]
  },
  {
   "cell_type": "code",
   "execution_count": null,
   "id": "amateur-acting",
   "metadata": {},
   "outputs": [],
   "source": []
  },
  {
   "cell_type": "markdown",
   "id": "virtual-flood",
   "metadata": {},
   "source": [
    "in the Above project i was not be able to scrap data from multiple pages in selenium , a part from this i am able to scrap data from multiple \n",
    "pages using BeautifulSoup.\n",
    "in the above project in some question i was not sure why my code is not running properply ,i mean some time it give less data thats why i was not be able to prepare DatafRAME.\n",
    "\n",
    "the key like   Send.key(), Search(), and some more keys are not working in my selenium ,please suggest me the solution.\n",
    "\n",
    "Thank you."
   ]
  },
  {
   "cell_type": "code",
   "execution_count": null,
   "id": "upper-industry",
   "metadata": {},
   "outputs": [],
   "source": []
  }
 ],
 "metadata": {
  "kernelspec": {
   "display_name": "Python 3",
   "language": "python",
   "name": "python3"
  },
  "language_info": {
   "codemirror_mode": {
    "name": "ipython",
    "version": 3
   },
   "file_extension": ".py",
   "mimetype": "text/x-python",
   "name": "python",
   "nbconvert_exporter": "python",
   "pygments_lexer": "ipython3",
   "version": "3.9.5"
  }
 },
 "nbformat": 4,
 "nbformat_minor": 5
}
